{
 "cells": [
  {
   "cell_type": "markdown",
   "metadata": {},
   "source": [
    "The Dart Experiment"
   ]
  },
  {
   "cell_type": "code",
   "execution_count": 10,
   "metadata": {},
   "outputs": [],
   "source": [
    "import random as rd"
   ]
  },
  {
   "cell_type": "code",
   "execution_count": 2,
   "metadata": {},
   "outputs": [],
   "source": [
    "#estimating the value of pi - dart experiment\n",
    "\n",
    "def monteCarloPi(numSamples):\n",
    "    dartsInCircle = 0\n",
    "    for i in range(numSamples):\n",
    "        x=rd.uniform(0,1)\n",
    "        y=rd.uniform(0,1)\n",
    "        if (x**2 + y**2) <= 1:\n",
    "            dartsInCircle += 1\n",
    "    estimate = 4*dartsInCircle / (numSamples * 1.0)\n",
    "    return estimate"
   ]
  },
  {
   "cell_type": "code",
   "execution_count": 11,
   "metadata": {},
   "outputs": [
    {
     "data": {
      "text/plain": [
       "3.1416204"
      ]
     },
     "execution_count": 11,
     "metadata": {},
     "output_type": "execute_result"
    }
   ],
   "source": [
    "monteCarloPi(10000000)"
   ]
  },
  {
   "cell_type": "markdown",
   "metadata": {},
   "source": [
    "The Double Slit Experiment"
   ]
  },
  {
   "cell_type": "code",
   "execution_count": 12,
   "metadata": {},
   "outputs": [],
   "source": [
    "import numpy as np"
   ]
  },
  {
   "cell_type": "code",
   "execution_count": 13,
   "metadata": {},
   "outputs": [],
   "source": [
    "#parameters used\n",
    "#m = particle mass in kg \n",
    "#v = particle velocity in m/s\n",
    "\n",
    "#lamb = h(m*v) de broglie wavelength, scaled to be used in this modeled, h=6.\n",
    "#a = slit width in metres\n",
    "#d = distance betwen slits in metres\n",
    "#L = distance to screen in metres\n",
    "\n",
    "def Diffraction(a,d,lamb,l,x):\n",
    "\n",
    "    #calculating some constants\n",
    "    c = (np.pi*d)/(lamb*1)\n",
    "    k = (np.pi*a)/(lamb*1)\n",
    "\n",
    "    #probability function\n",
    "    probability = ((np.cos(c*x)**2))*(((np.sin(k*x))/(k*x))**2)\n",
    "\n",
    "    return probability"
   ]
  },
  {
   "cell_type": "code",
   "execution_count": 2,
   "metadata": {},
   "outputs": [],
   "source": [
    "def MonteCarlo(a,d,lamb,l):\n",
    "\n",
    "    #monte carlo throw for a particle at a given position on our viewing screen \n",
    "    x = np.random.uniform(-.001,.001) #between -1mm and 1mm\n",
    "\n",
    "    p = Diffraction(a,d,lamb,l,x)\n",
    "    rand = np.random.uniform(0,1)\n",
    "\n",
    "    if (p >= rand):\n",
    "        return x"
   ]
  }
 ],
 "metadata": {
  "kernelspec": {
   "display_name": "Python 3",
   "language": "python",
   "name": "python3"
  },
  "language_info": {
   "codemirror_mode": {
    "name": "ipython",
    "version": 3
   },
   "file_extension": ".py",
   "mimetype": "text/x-python",
   "name": "python",
   "nbconvert_exporter": "python",
   "pygments_lexer": "ipython3",
   "version": "3.12.1"
  }
 },
 "nbformat": 4,
 "nbformat_minor": 2
}
